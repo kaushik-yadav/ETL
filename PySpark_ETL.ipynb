{
  "nbformat": 4,
  "nbformat_minor": 0,
  "metadata": {
    "colab": {
      "provenance": [],
      "toc_visible": true,
      "authorship_tag": "ABX9TyO4m+9wWZh146+UgCIDvBuK",
      "include_colab_link": true
    },
    "kernelspec": {
      "name": "python3",
      "display_name": "Python 3"
    },
    "language_info": {
      "name": "python"
    }
  },
  "cells": [
    {
      "cell_type": "markdown",
      "metadata": {
        "id": "view-in-github",
        "colab_type": "text"
      },
      "source": [
        "<a href=\"https://colab.research.google.com/github/kaushik-yadav/ETL/blob/main/PySpark_ETL.ipynb\" target=\"_parent\"><img src=\"https://colab.research.google.com/assets/colab-badge.svg\" alt=\"Open In Colab\"/></a>"
      ]
    },
    {
      "cell_type": "code",
      "execution_count": null,
      "metadata": {
        "colab": {
          "base_uri": "https://localhost:8080/"
        },
        "id": "Jdfhe4u5qMcd",
        "outputId": "c675d5fa-9b4d-462f-b33c-be73e2678d4d"
      },
      "outputs": [
        {
          "output_type": "stream",
          "name": "stdout",
          "text": [
            "Requirement already satisfied: pyspark in /usr/local/lib/python3.11/dist-packages (3.5.4)\n",
            "Collecting findspark\n",
            "  Downloading findspark-2.0.1-py2.py3-none-any.whl.metadata (352 bytes)\n",
            "Requirement already satisfied: py4j==0.10.9.7 in /usr/local/lib/python3.11/dist-packages (from pyspark) (0.10.9.7)\n",
            "Downloading findspark-2.0.1-py2.py3-none-any.whl (4.4 kB)\n",
            "Installing collected packages: findspark\n",
            "Successfully installed findspark-2.0.1\n"
          ]
        }
      ],
      "source": [
        "!pip install pyspark findspark"
      ]
    },
    {
      "cell_type": "code",
      "source": [
        "import findspark\n",
        "findspark.init()"
      ],
      "metadata": {
        "id": "2U9ec8qWqsH7"
      },
      "execution_count": null,
      "outputs": []
    },
    {
      "cell_type": "code",
      "source": [
        "from pyspark.sql import SparkSession"
      ],
      "metadata": {
        "id": "Hd4Wmi8fqvJr"
      },
      "execution_count": null,
      "outputs": []
    },
    {
      "cell_type": "code",
      "source": [
        "spark = SparkSession.builder.appName('intro').getOrCreate()\n",
        "sqlContext = SparkSession(spark)\n",
        "spark.sparkContext.setLogLevel(\"ERROR\")"
      ],
      "metadata": {
        "id": "w7sY-FjArrUJ"
      },
      "execution_count": null,
      "outputs": []
    },
    {
      "cell_type": "markdown",
      "source": [
        "IF the Data is to be created manually then we can define spark df as df = create_df(spark_session,data,schema_of_data)"
      ],
      "metadata": {
        "id": "gjgWNMo6wAMm"
      }
    },
    {
      "cell_type": "markdown",
      "source": [
        "Loading data from a csv"
      ],
      "metadata": {
        "id": "KG40FbcstsxM"
      }
    },
    {
      "cell_type": "code",
      "source": [
        "csv_df = spark.read.format(\"csv\").option(\"header\",\"true\").option(\"inferSchema\",\"true\").load(\"/content/nyc_taxi_zone.csv\")"
      ],
      "metadata": {
        "id": "jOSHCHZwsye4"
      },
      "execution_count": null,
      "outputs": []
    },
    {
      "cell_type": "code",
      "source": [
        "csv_df.printSchema()"
      ],
      "metadata": {
        "colab": {
          "base_uri": "https://localhost:8080/"
        },
        "id": "Mm7e2dxktIvb",
        "outputId": "d5f2714c-e022-4f86-ecf1-c371b150107e"
      },
      "execution_count": null,
      "outputs": [
        {
          "output_type": "stream",
          "name": "stdout",
          "text": [
            "root\n",
            " |-- LocationID: integer (nullable = true)\n",
            " |-- Borough: string (nullable = true)\n",
            " |-- Zone: string (nullable = true)\n",
            " |-- service_zone: string (nullable = true)\n",
            "\n"
          ]
        }
      ]
    },
    {
      "cell_type": "code",
      "source": [
        "csv_df.show()"
      ],
      "metadata": {
        "colab": {
          "base_uri": "https://localhost:8080/"
        },
        "id": "H8q0kiC7tmrj",
        "outputId": "80f6ffb5-101e-4c2b-9640-4cf394d0ee69"
      },
      "execution_count": null,
      "outputs": [
        {
          "output_type": "stream",
          "name": "stdout",
          "text": [
            "+----------+-------------+--------------------+------------+\n",
            "|LocationID|      Borough|                Zone|service_zone|\n",
            "+----------+-------------+--------------------+------------+\n",
            "|         1|          EWR|      Newark Airport|         EWR|\n",
            "|         2|       Queens|         Jamaica Bay|   Boro Zone|\n",
            "|         3|        Bronx|Allerton/Pelham G...|   Boro Zone|\n",
            "|         4|    Manhattan|       Alphabet City| Yellow Zone|\n",
            "|         5|Staten Island|       Arden Heights|   Boro Zone|\n",
            "|         6|Staten Island|Arrochar/Fort Wad...|   Boro Zone|\n",
            "|         7|       Queens|             Astoria|   Boro Zone|\n",
            "|         8|       Queens|        Astoria Park|   Boro Zone|\n",
            "|         9|       Queens|          Auburndale|   Boro Zone|\n",
            "|        10|       Queens|        Baisley Park|   Boro Zone|\n",
            "|        11|     Brooklyn|          Bath Beach|   Boro Zone|\n",
            "|        12|    Manhattan|        Battery Park| Yellow Zone|\n",
            "|        13|    Manhattan|   Battery Park City| Yellow Zone|\n",
            "|        14|     Brooklyn|           Bay Ridge|   Boro Zone|\n",
            "|        15|       Queens|Bay Terrace/Fort ...|   Boro Zone|\n",
            "|        16|       Queens|             Bayside|   Boro Zone|\n",
            "|        17|     Brooklyn|             Bedford|   Boro Zone|\n",
            "|        18|        Bronx|        Bedford Park|   Boro Zone|\n",
            "|        19|       Queens|           Bellerose|   Boro Zone|\n",
            "|        20|        Bronx|             Belmont|   Boro Zone|\n",
            "+----------+-------------+--------------------+------------+\n",
            "only showing top 20 rows\n",
            "\n"
          ]
        }
      ]
    },
    {
      "cell_type": "code",
      "source": [
        "zone = csv_df.select(\"zone\",\"service_zone\")\n",
        "zone.show(n=5)"
      ],
      "metadata": {
        "colab": {
          "base_uri": "https://localhost:8080/"
        },
        "id": "lAxwWsTjusHy",
        "outputId": "74e6b8e3-eaec-4d8e-a8c4-b7f286fb5ab3"
      },
      "execution_count": 12,
      "outputs": [
        {
          "output_type": "stream",
          "name": "stdout",
          "text": [
            "+--------------------+------------+\n",
            "|                zone|service_zone|\n",
            "+--------------------+------------+\n",
            "|      Newark Airport|         EWR|\n",
            "|         Jamaica Bay|   Boro Zone|\n",
            "|Allerton/Pelham G...|   Boro Zone|\n",
            "|       Alphabet City| Yellow Zone|\n",
            "|       Arden Heights|   Boro Zone|\n",
            "+--------------------+------------+\n",
            "only showing top 5 rows\n",
            "\n"
          ]
        }
      ]
    },
    {
      "cell_type": "code",
      "source": [
        "count_zone = zone.groupBy(\"zone\",\"service_zone\").count()\n",
        "count_zone.show()"
      ],
      "metadata": {
        "id": "E9DmDuAnvFOj",
        "colab": {
          "base_uri": "https://localhost:8080/"
        },
        "outputId": "68d88e50-7854-4f10-980d-1715eb982151"
      },
      "execution_count": 16,
      "outputs": [
        {
          "output_type": "stream",
          "name": "stdout",
          "text": [
            "+--------------------+------------+-----+\n",
            "|                zone|service_zone|count|\n",
            "+--------------------+------------+-----+\n",
            "|Forest Park/Highl...|   Boro Zone|    1|\n",
            "|  DUMBO/Vinegar Hill|   Boro Zone|    1|\n",
            "|             Norwood|   Boro Zone|    1|\n",
            "|      Yorkville West| Yellow Zone|    1|\n",
            "|     Lenox Hill West| Yellow Zone|    1|\n",
            "|      Manhattanville|   Boro Zone|    1|\n",
            "|Washington Height...|   Boro Zone|    1|\n",
            "|      Bushwick North|   Boro Zone|    1|\n",
            "|              Hollis|   Boro Zone|    1|\n",
            "|Mott Haven/Port M...|   Boro Zone|    1|\n",
            "|      West Concourse|   Boro Zone|    1|\n",
            "|       Arden Heights|   Boro Zone|    1|\n",
            "|East Flatbush/Rem...|   Boro Zone|    1|\n",
            "|          Greenpoint|   Boro Zone|    1|\n",
            "|Flushing Meadows-...|   Boro Zone|    1|\n",
            "|    Inwood Hill Park|   Boro Zone|    1|\n",
            "|Upper West Side N...| Yellow Zone|    1|\n",
            "|           Bellerose|   Boro Zone|    1|\n",
            "|      Brighton Beach|   Boro Zone|    1|\n",
            "|        North Corona|   Boro Zone|    1|\n",
            "+--------------------+------------+-----+\n",
            "only showing top 20 rows\n",
            "\n"
          ]
        }
      ]
    }
  ]
}