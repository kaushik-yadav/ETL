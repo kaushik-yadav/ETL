{
  "nbformat": 4,
  "nbformat_minor": 0,
  "metadata": {
    "colab": {
      "provenance": [],
      "authorship_tag": "ABX9TyNn9WrXiXe2cZ48mgG946e5",
      "include_colab_link": true
    },
    "kernelspec": {
      "name": "python3",
      "display_name": "Python 3"
    },
    "language_info": {
      "name": "python"
    }
  },
  "cells": [
    {
      "cell_type": "markdown",
      "metadata": {
        "id": "view-in-github",
        "colab_type": "text"
      },
      "source": [
        "<a href=\"https://colab.research.google.com/github/kaushik-yadav/ETL/blob/main/PySpark_ETL.ipynb\" target=\"_parent\"><img src=\"https://colab.research.google.com/assets/colab-badge.svg\" alt=\"Open In Colab\"/></a>"
      ]
    },
    {
      "cell_type": "code",
      "execution_count": null,
      "metadata": {
        "colab": {
          "base_uri": "https://localhost:8080/"
        },
        "id": "Jdfhe4u5qMcd",
        "outputId": "c675d5fa-9b4d-462f-b33c-be73e2678d4d"
      },
      "outputs": [
        {
          "output_type": "stream",
          "name": "stdout",
          "text": [
            "Requirement already satisfied: pyspark in /usr/local/lib/python3.11/dist-packages (3.5.4)\n",
            "Collecting findspark\n",
            "  Downloading findspark-2.0.1-py2.py3-none-any.whl.metadata (352 bytes)\n",
            "Requirement already satisfied: py4j==0.10.9.7 in /usr/local/lib/python3.11/dist-packages (from pyspark) (0.10.9.7)\n",
            "Downloading findspark-2.0.1-py2.py3-none-any.whl (4.4 kB)\n",
            "Installing collected packages: findspark\n",
            "Successfully installed findspark-2.0.1\n"
          ]
        }
      ],
      "source": [
        "!pip install pyspark findspark"
      ]
    },
    {
      "cell_type": "code",
      "source": [
        "import findspark\n",
        "findspark.init()"
      ],
      "metadata": {
        "id": "2U9ec8qWqsH7"
      },
      "execution_count": null,
      "outputs": []
    },
    {
      "cell_type": "code",
      "source": [
        "from pyspark.sql import SparkSession\n",
        "from pyspark.sql.functions import col,isnan,when,count,round,avg,mean"
      ],
      "metadata": {
        "id": "Hd4Wmi8fqvJr"
      },
      "execution_count": 51,
      "outputs": []
    },
    {
      "cell_type": "code",
      "source": [
        "spark = SparkSession.builder.appName('intro').getOrCreate()\n",
        "sqlContext = SparkSession(spark)\n",
        "spark.sparkContext.setLogLevel(\"ERROR\")"
      ],
      "metadata": {
        "id": "w7sY-FjArrUJ"
      },
      "execution_count": null,
      "outputs": []
    },
    {
      "cell_type": "markdown",
      "source": [
        "IF the Data is to be created manually then we can define spark df as df = create_df(spark_session,data,schema_of_data)"
      ],
      "metadata": {
        "id": "gjgWNMo6wAMm"
      }
    },
    {
      "cell_type": "markdown",
      "source": [
        "Loading data from a csv"
      ],
      "metadata": {
        "id": "KG40FbcstsxM"
      }
    },
    {
      "cell_type": "code",
      "source": [
        "csv_df = spark.read.format(\"csv\").option(\"header\",\"true\").option(\"inferSchema\",\"true\").load(\"/content/airports.csv\")"
      ],
      "metadata": {
        "id": "jOSHCHZwsye4"
      },
      "execution_count": 17,
      "outputs": []
    },
    {
      "cell_type": "code",
      "source": [
        "csv_df.printSchema()"
      ],
      "metadata": {
        "colab": {
          "base_uri": "https://localhost:8080/"
        },
        "id": "Mm7e2dxktIvb",
        "outputId": "0da25b67-5b26-4c81-e08d-6cdeb3b1ed2a"
      },
      "execution_count": 19,
      "outputs": [
        {
          "output_type": "stream",
          "name": "stdout",
          "text": [
            "root\n",
            " |-- id: integer (nullable = true)\n",
            " |-- ident: string (nullable = true)\n",
            " |-- type: string (nullable = true)\n",
            " |-- name: string (nullable = true)\n",
            " |-- latitude_deg: double (nullable = true)\n",
            " |-- longitude_deg: double (nullable = true)\n",
            " |-- elevation_ft: integer (nullable = true)\n",
            " |-- continent: string (nullable = true)\n",
            " |-- iso_country: string (nullable = true)\n",
            " |-- iso_region: string (nullable = true)\n",
            " |-- municipality: string (nullable = true)\n",
            " |-- scheduled_service: string (nullable = true)\n",
            " |-- gps_code: string (nullable = true)\n",
            " |-- iata_code: string (nullable = true)\n",
            " |-- local_code: string (nullable = true)\n",
            " |-- home_link: string (nullable = true)\n",
            " |-- wikipedia_link: string (nullable = true)\n",
            " |-- keywords: string (nullable = true)\n",
            "\n"
          ]
        }
      ]
    },
    {
      "cell_type": "code",
      "source": [
        "csv_df.show()"
      ],
      "metadata": {
        "colab": {
          "base_uri": "https://localhost:8080/"
        },
        "id": "H8q0kiC7tmrj",
        "outputId": "1b9545ce-d401-4101-baec-1dc877f4c0e0"
      },
      "execution_count": 20,
      "outputs": [
        {
          "output_type": "stream",
          "name": "stdout",
          "text": [
            "+------+-----+-------------+--------------------+------------------+-------------------+------------+---------+-----------+----------+------------+-----------------+--------+---------+----------+--------------------+--------------------+--------+\n",
            "|    id|ident|         type|                name|      latitude_deg|      longitude_deg|elevation_ft|continent|iso_country|iso_region|municipality|scheduled_service|gps_code|iata_code|local_code|           home_link|      wikipedia_link|keywords|\n",
            "+------+-----+-------------+--------------------+------------------+-------------------+------------+---------+-----------+----------+------------+-----------------+--------+---------+----------+--------------------+--------------------+--------+\n",
            "|  6523|  00A|     heliport|   Total RF Heliport|         40.070985|         -74.933689|          11|       NA|         US|     US-PA|    Bensalem|               no|    K00A|     NULL|       00A|https://www.pennd...|                NULL|    NULL|\n",
            "|323361| 00AA|small_airport|Aero B Ranch Airport|         38.704022|        -101.473911|        3435|       NA|         US|     US-KS|       Leoti|               no|    00AA|     NULL|      00AA|                NULL|                NULL|    NULL|\n",
            "|  6524| 00AK|small_airport|        Lowell Field|         59.947733|        -151.692524|         450|       NA|         US|     US-AK|Anchor Point|               no|    00AK|     NULL|      00AK|                NULL|                NULL|    NULL|\n",
            "|  6525| 00AL|small_airport|        Epps Airpark| 34.86479949951172| -86.77030181884766|         820|       NA|         US|     US-AL|     Harvest|               no|    00AL|     NULL|      00AL|                NULL|                NULL|    NULL|\n",
            "|506791| 00AN|small_airport|Katmai Lodge Airport|         59.093287|        -156.456699|          80|       NA|         US|     US-AK| King Salmon|               no|    00AN|     NULL|      00AN|                NULL|                NULL|    NULL|\n",
            "|  6526| 00AR|       closed|Newport Hospital ...|           35.6087|         -91.254898|         237|       NA|         US|     US-AR|     Newport|               no|    NULL|     NULL|      NULL|                NULL|                NULL|    00AR|\n",
            "|322127| 00AS|small_airport|      Fulton Airport|        34.9428028|        -97.8180194|        1100|       NA|         US|     US-OK|        Alex|               no|    00AS|     NULL|      00AS|                NULL|                NULL|    NULL|\n",
            "|  6527| 00AZ|small_airport|      Cordes Airport|34.305599212646484|-112.16500091552734|        3810|       NA|         US|     US-AZ|      Cordes|               no|    00AZ|     NULL|      00AZ|                NULL|                NULL|    NULL|\n",
            "|  6528| 00CA|small_airport|Goldstone (GTS) A...|          35.35474|        -116.885329|        3038|       NA|         US|     US-CA|     Barstow|               no|    00CA|     NULL|      00CA|                NULL|https://en.wikipe...|    NULL|\n",
            "|324424| 00CL|small_airport| Williams Ag Airport|         39.427188|        -121.763427|          87|       NA|         US|     US-CA|       Biggs|               no|    00CL|     NULL|      00CL|                NULL|                NULL|    NULL|\n",
            "|322658| 00CN|     heliport|Kitchen Creek Hel...|        32.7273736|       -116.4597417|        3350|       NA|         US|     US-CA| Pine Valley|               no|    00CN|     NULL|      00CN|                NULL|                NULL|    NULL|\n",
            "|  6529| 00CO|       closed|          Cass Field|         40.622202|        -104.344002|        4830|       NA|         US|     US-CO|  Briggsdale|               no|    NULL|     NULL|      NULL|                NULL|                NULL|    00CO|\n",
            "|  6531| 00FA|small_airport| Grass Patch Airport| 28.64550018310547| -82.21900177001953|          53|       NA|         US|     US-FL|    Bushnell|               no|    00FA|     NULL|      00FA|                NULL|                NULL|    NULL|\n",
            "|  6532| 00FD|       closed|  Ringhaver Heliport|           28.8466|         -82.345398|          25|       NA|         US|     US-FL|   Riverview|               no|    NULL|     NULL|      NULL|                NULL|                NULL|    00FD|\n",
            "|  6533| 00FL|small_airport|   River Oak Airport|27.230899810791016| -80.96920013427734|          35|       NA|         US|     US-FL|  Okeechobee|               no|    00FL|     NULL|      00FL|                NULL|                NULL|    NULL|\n",
            "|  6534| 00GA|small_airport|    Lt World Airport| 33.76750183105469| -84.06829833984375|         700|       NA|         US|     US-GA|    Lithonia|               no|    00GA|     NULL|      00GA|                NULL|                NULL|    NULL|\n",
            "|  6535| 00GE|     heliport|    Caffrey Heliport|         33.887982|         -84.736983|         957|       NA|         US|     US-GA|       Hiram|               no|    00GE|     NULL|      00GE|                NULL|                NULL|    NULL|\n",
            "|  6536| 00HI|     heliport|  Kaupulehu Heliport|         19.832881|        -155.978347|          43|       OC|         US|     US-HI| Kailua-Kona|               no|    00HI|     NULL|      00HI|                NULL|                NULL|    NULL|\n",
            "|  6537| 00ID|small_airport|Delta Shores Airport|48.145301818847656|-116.21399688720703|        2064|       NA|         US|     US-ID|  Clark Fork|               no|    00ID|     NULL|      00ID|                NULL|                NULL|    NULL|\n",
            "|322581| 00IG|small_airport|       Goltl Airport|         39.724028|        -101.395994|        3359|       NA|         US|     US-KS|    McDonald|               no|    00IG|     NULL|      00IG|                NULL|                NULL|    NULL|\n",
            "+------+-----+-------------+--------------------+------------------+-------------------+------------+---------+-----------+----------+------------+-----------------+--------+---------+----------+--------------------+--------------------+--------+\n",
            "only showing top 20 rows\n",
            "\n"
          ]
        }
      ]
    },
    {
      "cell_type": "markdown",
      "source": [
        "counting null values for elevation_ft column"
      ],
      "metadata": {
        "id": "u2BcUtjM2KpQ"
      }
    },
    {
      "cell_type": "markdown",
      "source": [
        "filter is used for filtering the dataframes , it is analogous to WHERE in sql"
      ],
      "metadata": {
        "id": "dNnGaOHY3FEI"
      }
    },
    {
      "cell_type": "code",
      "source": [
        "count_null = csv_df.filter(col(\"elevation_ft\").isNull()).count()\n",
        "count_null"
      ],
      "metadata": {
        "colab": {
          "base_uri": "https://localhost:8080/"
        },
        "id": "JN2fJBK92O7A",
        "outputId": "972216a6-495a-40cb-96b7-fe11b7a9c81a"
      },
      "execution_count": 29,
      "outputs": [
        {
          "output_type": "execute_result",
          "data": {
            "text/plain": [
              "14514"
            ]
          },
          "metadata": {},
          "execution_count": 29
        }
      ]
    },
    {
      "cell_type": "markdown",
      "source": [
        "sorting based on elevation\n"
      ],
      "metadata": {
        "id": "Df--S6oD1Vm-"
      }
    },
    {
      "cell_type": "code",
      "source": [
        "sorted_df = csv_df.orderBy(col(\"elevation_ft\").desc())\n",
        "sorted_df.show(n=10)"
      ],
      "metadata": {
        "colab": {
          "base_uri": "https://localhost:8080/"
        },
        "id": "CJnrZmHX1ad_",
        "outputId": "39f2afda-c33d-4167-d6af-218bf45e0741"
      },
      "execution_count": 35,
      "outputs": [
        {
          "output_type": "stream",
          "name": "stdout",
          "text": [
            "+------+-------+-------------+--------------------+------------------+-----------------+------------+---------+-----------+----------+----------------+-----------------+--------+---------+----------+---------+--------------------+----------+\n",
            "|    id|  ident|         type|                name|      latitude_deg|    longitude_deg|elevation_ft|continent|iso_country|iso_region|    municipality|scheduled_service|gps_code|iata_code|local_code|home_link|      wikipedia_link|  keywords|\n",
            "+------+-------+-------------+--------------------+------------------+-----------------+------------+---------+-----------+----------+----------------+-----------------+--------+---------+----------+---------+--------------------+----------+\n",
            "|350894|NP-0007|     heliport|Mount Everest Bas...|          28.00369|         86.85324|       17372|       AS|         NP|     NP-P1|        Khumjung|               no|    NULL|     NULL|      NULL|     NULL|                NULL|      NULL|\n",
            "|350896|NP-0009|     heliport|Kala Patthar Heli...|          27.98714|         86.83184|       17347|       AS|         NP|     NP-P1|        Khumjung|               no|    NULL|     NULL|      NULL|     NULL|                NULL|      NULL|\n",
            "| 42716|IN-0003|small_airport|Daulat Beg Oldi A...|         35.396467|        77.928965|       16200|       AS|         IN|     IN-LA|           Nubra|               no|    NULL|     NULL|      NULL|     NULL|https://en.wikipe...|      NULL|\n",
            "|356099|CN-0372|     heliport| Aksai Chin Heliport|          35.24569|         79.54054|       15988|       AS|         CN|     CN-65|          Khotan|               no|    NULL|     NULL|      NULL|     NULL|                NULL|      NULL|\n",
            "|356096|CN-0369|     heliport|      Nyima Heliport|          31.78739|         87.29839|       14997|       AS|         CN|     CN-54|   Nagqu (Nyima)|               no|    NULL|     NULL|      NULL|     NULL|                NULL|      NULL|\n",
            "| 39635|   SPNH|small_airport|Laguna Choclococh...|-13.16569995880127|-75.0719985961914|       14965|       SA|         PE|    PE-HUV|     Choclococha|               no|    SPNH|     NULL|      NULL|     NULL|                NULL|      NULL|\n",
            "|356094|CN-0367|     heliport|      Rutog Heliport|          33.65626|         80.45084|       14859|       AS|         CN|     CN-54|           Rutog|               no|    NULL|     NULL|      NULL|     NULL|                NULL|      NULL|\n",
            "| 39624|   SPFA|       closed|       Fausa Airport|          -14.7094|       -71.731102|       14809|       SA|         PE|    PE-CUS|           Fausa|               no|    NULL|     NULL|      NULL|     NULL|                NULL|SPFA, SPFA|\n",
            "|356097|CN-0370|     heliport|       Seni Heliport|         31.414472|        91.983751|       14730|       AS|         CN|     CN-54|    Nagqu (Seni)|               no|    NULL|     NULL|      NULL|     NULL|                NULL|      NULL|\n",
            "|356100|CN-0373|     heliport|     Daklam Heliport|           28.2845|          89.4035|       14541|       AS|         CN|     CN-54|Xigazê (Kangmar)|               no|    NULL|     NULL|      NULL|     NULL|                NULL|   Galanub|\n",
            "+------+-------+-------------+--------------------+------------------+-----------------+------------+---------+-----------+----------+----------------+-----------------+--------+---------+----------+---------+--------------------+----------+\n",
            "only showing top 10 rows\n",
            "\n"
          ]
        }
      ]
    },
    {
      "cell_type": "code",
      "source": [
        "\n",
        "ordered_by_id = csv_df.orderBy(col(\"id\"))\n",
        "ordered_by_id.show()"
      ],
      "metadata": {
        "id": "q7Kv8LqZ7WNI"
      },
      "execution_count": null,
      "outputs": []
    },
    {
      "cell_type": "markdown",
      "source": [
        "adding a new column for latitude in radians\n"
      ],
      "metadata": {
        "id": "tFjlpmb45qXQ"
      }
    },
    {
      "cell_type": "code",
      "source": [
        "conversion_unit = 0.0174533\n",
        "plane_details = ordered_by_id.select(\"id\",\"ident\",\"type\",\"name\",(round(col(\"latitude_deg\")*conversion_unit,5)).alias(\"latitude_rad\"))\n",
        "plane_details.show()"
      ],
      "metadata": {
        "colab": {
          "base_uri": "https://localhost:8080/"
        },
        "id": "ffO4Pl6Z7U7p",
        "outputId": "475c23e8-2c12-4bf1-d138-26491e549974"
      },
      "execution_count": 44,
      "outputs": [
        {
          "output_type": "stream",
          "name": "stdout",
          "text": [
            "+---+-------+--------------+--------------------+------------+\n",
            "| id|  ident|          type|                name|latitude_rad|\n",
            "+---+-------+--------------+--------------------+------------+\n",
            "|  2|   OM11| small_airport|Abu Dhabi Northea...|     0.42807|\n",
            "|  3|   AGGH| large_airport|Honiara Internati...|    -0.16455|\n",
            "|  4|   AGGM|medium_airport|       Munda Airport|    -0.14535|\n",
            "|  5|AL-LA10|        closed|Gjirokastër Airfield|     0.69962|\n",
            "|  7|   UD21| small_airport|       Arzni Airport|     0.70327|\n",
            "|  8|   ANYN|medium_airport|Nauru Internation...|    -0.00955|\n",
            "|  9|   FN18| small_airport|      Matala Airport|    -0.25704|\n",
            "| 10|   FN19| small_airport|  Cabo Ledo Air Base|    -0.16848|\n",
            "| 11|   NZ12| small_airport|Palmer Station Ai...|    -1.13053|\n",
            "| 12|   SA47| small_airport|      Petrel Airport|    -1.10792|\n",
            "| 13|   SA01| small_airport|       Cachi Airport|    -0.43817|\n",
            "| 14|   SA02| small_airport|    Cafayate Airport|    -0.45476|\n",
            "| 15|   SA03| small_airport|Villa Minetti Air...|    -0.49952|\n",
            "| 16|   SA04| small_airport|Isla Martin Garci...|    -0.59659|\n",
            "| 17|   SA05| small_airport|  Bell Ville Airport|    -0.57002|\n",
            "| 18|   SA06| small_airport|  Santa Rita Airport|    -0.62532|\n",
            "| 19|   SA07| small_airport|   El Porton Airport|    -0.64916|\n",
            "| 20|   SA10| small_airport|Aeródromo Estanci...|    -0.45895|\n",
            "| 21|   SA11| small_airport|Campo Arenal Airport|     -0.4725|\n",
            "| 22|   SA12| small_airport| Quemu Quemu Airport|    -0.62934|\n",
            "+---+-------+--------------+--------------------+------------+\n",
            "only showing top 20 rows\n",
            "\n"
          ]
        }
      ]
    },
    {
      "cell_type": "markdown",
      "source": [
        "Average continent and Country wise Elevation"
      ],
      "metadata": {
        "id": "0gHCW1osDBef"
      }
    },
    {
      "cell_type": "code",
      "source": [
        "elev_df = csv_df.select(\"iso_country\",\"continent\",\"elevation_ft\")\n",
        "continent_avg_elev_df = elev_df.groupBy(\"continent\").agg(round(mean(\"elevation_ft\"),4).alias(\"avg_continent_elevation\"))\n",
        "country_avg_elev_df = elev_df.groupBy(\"iso_country\").agg(round(mean(\"elevation_ft\"),4).alias(\"avg_country_elevation\"))\n",
        "avg_elev_df = elev_df.join(country_avg_elev_df, on = \"iso_country\",how = \"left\")\\\n",
        "                      .join(continent_avg_elev_df, on = \"continent\",how = \"left\")\n",
        "\n",
        "avg_elev_df.show()\n"
      ],
      "metadata": {
        "colab": {
          "base_uri": "https://localhost:8080/"
        },
        "id": "rkJv8zZPDl2M",
        "outputId": "9fb71929-654c-46eb-8b31-a5e7c4073a52"
      },
      "execution_count": 69,
      "outputs": [
        {
          "output_type": "stream",
          "name": "stdout",
          "text": [
            "+---------+-----------+------------+---------------------+-----------------------+\n",
            "|continent|iso_country|elevation_ft|avg_country_elevation|avg_continent_elevation|\n",
            "+---------+-----------+------------+---------------------+-----------------------+\n",
            "|       NA|         US|          11|            1275.2224|              1353.0655|\n",
            "|       NA|         US|        3435|            1275.2224|              1353.0655|\n",
            "|       NA|         US|         450|            1275.2224|              1353.0655|\n",
            "|       NA|         US|         820|            1275.2224|              1353.0655|\n",
            "|       NA|         US|          80|            1275.2224|              1353.0655|\n",
            "|       NA|         US|         237|            1275.2224|              1353.0655|\n",
            "|       NA|         US|        1100|            1275.2224|              1353.0655|\n",
            "|       NA|         US|        3810|            1275.2224|              1353.0655|\n",
            "|       NA|         US|        3038|            1275.2224|              1353.0655|\n",
            "|       NA|         US|          87|            1275.2224|              1353.0655|\n",
            "|       NA|         US|        3350|            1275.2224|              1353.0655|\n",
            "|       NA|         US|        4830|            1275.2224|              1353.0655|\n",
            "|       NA|         US|          53|            1275.2224|              1353.0655|\n",
            "|       NA|         US|          25|            1275.2224|              1353.0655|\n",
            "|       NA|         US|          35|            1275.2224|              1353.0655|\n",
            "|       NA|         US|         700|            1275.2224|              1353.0655|\n",
            "|       NA|         US|         957|            1275.2224|              1353.0655|\n",
            "|       OC|         US|          43|            1275.2224|               881.3499|\n",
            "|       NA|         US|        2064|            1275.2224|              1353.0655|\n",
            "|       NA|         US|        3359|            1275.2224|              1353.0655|\n",
            "+---------+-----------+------------+---------------------+-----------------------+\n",
            "only showing top 20 rows\n",
            "\n"
          ]
        }
      ]
    },
    {
      "cell_type": "markdown",
      "source": [
        "taking only distinct countries by using dropduplicates"
      ],
      "metadata": {
        "id": "hoLwdCjBK8Nt"
      }
    }
  ]
}