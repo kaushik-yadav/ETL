{
  "nbformat": 4,
  "nbformat_minor": 0,
  "metadata": {
    "colab": {
      "provenance": [],
      "toc_visible": true,
      "authorship_tag": "ABX9TyN/ovTch0vAb9vQ2bt8vOFL"
    },
    "kernelspec": {
      "name": "python3",
      "display_name": "Python 3"
    },
    "language_info": {
      "name": "python"
    }
  },
  "cells": [
    {
      "cell_type": "code",
      "execution_count": null,
      "metadata": {
        "colab": {
          "base_uri": "https://localhost:8080/"
        },
        "id": "Jdfhe4u5qMcd",
        "outputId": "c675d5fa-9b4d-462f-b33c-be73e2678d4d"
      },
      "outputs": [
        {
          "output_type": "stream",
          "name": "stdout",
          "text": [
            "Requirement already satisfied: pyspark in /usr/local/lib/python3.11/dist-packages (3.5.4)\n",
            "Collecting findspark\n",
            "  Downloading findspark-2.0.1-py2.py3-none-any.whl.metadata (352 bytes)\n",
            "Requirement already satisfied: py4j==0.10.9.7 in /usr/local/lib/python3.11/dist-packages (from pyspark) (0.10.9.7)\n",
            "Downloading findspark-2.0.1-py2.py3-none-any.whl (4.4 kB)\n",
            "Installing collected packages: findspark\n",
            "Successfully installed findspark-2.0.1\n"
          ]
        }
      ],
      "source": [
        "!pip install pyspark findspark"
      ]
    },
    {
      "cell_type": "code",
      "source": [
        "import findspark\n",
        "findspark.init()"
      ],
      "metadata": {
        "id": "2U9ec8qWqsH7"
      },
      "execution_count": null,
      "outputs": []
    },
    {
      "cell_type": "code",
      "source": [
        "from pyspark.sql import SparkSession"
      ],
      "metadata": {
        "id": "Hd4Wmi8fqvJr"
      },
      "execution_count": null,
      "outputs": []
    },
    {
      "cell_type": "code",
      "source": [
        "spark = SparkSession.builder.appName('intro').getOrCreate()\n",
        "sqlContext = SparkSession(spark)\n",
        "spark.sparkContext.setLogLevel(\"ERROR\")"
      ],
      "metadata": {
        "id": "w7sY-FjArrUJ"
      },
      "execution_count": null,
      "outputs": []
    },
    {
      "cell_type": "markdown",
      "source": [
        "IF the Data is to be created manually then we can define spark df as df = create_df(spark_session,data,schema_of_data)"
      ],
      "metadata": {
        "id": "gjgWNMo6wAMm"
      }
    },
    {
      "cell_type": "markdown",
      "source": [
        "Loading data from a csv"
      ],
      "metadata": {
        "id": "KG40FbcstsxM"
      }
    },
    {
      "cell_type": "code",
      "source": [
        "csv_df = spark.read.format(\"csv\").option(\"header\",\"true\").option(\"inferSchema\",\"true\").load(\"/content/nyc_taxi_zone.csv\")"
      ],
      "metadata": {
        "id": "jOSHCHZwsye4"
      },
      "execution_count": null,
      "outputs": []
    },
    {
      "cell_type": "code",
      "source": [
        "csv_df.printSchema()"
      ],
      "metadata": {
        "colab": {
          "base_uri": "https://localhost:8080/"
        },
        "id": "Mm7e2dxktIvb",
        "outputId": "d5f2714c-e022-4f86-ecf1-c371b150107e"
      },
      "execution_count": null,
      "outputs": [
        {
          "output_type": "stream",
          "name": "stdout",
          "text": [
            "root\n",
            " |-- LocationID: integer (nullable = true)\n",
            " |-- Borough: string (nullable = true)\n",
            " |-- Zone: string (nullable = true)\n",
            " |-- service_zone: string (nullable = true)\n",
            "\n"
          ]
        }
      ]
    },
    {
      "cell_type": "code",
      "source": [
        "csv_df.show()"
      ],
      "metadata": {
        "colab": {
          "base_uri": "https://localhost:8080/"
        },
        "id": "H8q0kiC7tmrj",
        "outputId": "80f6ffb5-101e-4c2b-9640-4cf394d0ee69"
      },
      "execution_count": null,
      "outputs": [
        {
          "output_type": "stream",
          "name": "stdout",
          "text": [
            "+----------+-------------+--------------------+------------+\n",
            "|LocationID|      Borough|                Zone|service_zone|\n",
            "+----------+-------------+--------------------+------------+\n",
            "|         1|          EWR|      Newark Airport|         EWR|\n",
            "|         2|       Queens|         Jamaica Bay|   Boro Zone|\n",
            "|         3|        Bronx|Allerton/Pelham G...|   Boro Zone|\n",
            "|         4|    Manhattan|       Alphabet City| Yellow Zone|\n",
            "|         5|Staten Island|       Arden Heights|   Boro Zone|\n",
            "|         6|Staten Island|Arrochar/Fort Wad...|   Boro Zone|\n",
            "|         7|       Queens|             Astoria|   Boro Zone|\n",
            "|         8|       Queens|        Astoria Park|   Boro Zone|\n",
            "|         9|       Queens|          Auburndale|   Boro Zone|\n",
            "|        10|       Queens|        Baisley Park|   Boro Zone|\n",
            "|        11|     Brooklyn|          Bath Beach|   Boro Zone|\n",
            "|        12|    Manhattan|        Battery Park| Yellow Zone|\n",
            "|        13|    Manhattan|   Battery Park City| Yellow Zone|\n",
            "|        14|     Brooklyn|           Bay Ridge|   Boro Zone|\n",
            "|        15|       Queens|Bay Terrace/Fort ...|   Boro Zone|\n",
            "|        16|       Queens|             Bayside|   Boro Zone|\n",
            "|        17|     Brooklyn|             Bedford|   Boro Zone|\n",
            "|        18|        Bronx|        Bedford Park|   Boro Zone|\n",
            "|        19|       Queens|           Bellerose|   Boro Zone|\n",
            "|        20|        Bronx|             Belmont|   Boro Zone|\n",
            "+----------+-------------+--------------------+------------+\n",
            "only showing top 20 rows\n",
            "\n"
          ]
        }
      ]
    },
    {
      "cell_type": "code",
      "source": [
        "zone = csv_df.select(\"zone\")\n",
        "zone.show(n=5)"
      ],
      "metadata": {
        "colab": {
          "base_uri": "https://localhost:8080/"
        },
        "id": "lAxwWsTjusHy",
        "outputId": "a7a44568-55d1-4dad-9117-daf4ab9aac1e"
      },
      "execution_count": null,
      "outputs": [
        {
          "output_type": "stream",
          "name": "stdout",
          "text": [
            "+--------------------+\n",
            "|                zone|\n",
            "+--------------------+\n",
            "|      Newark Airport|\n",
            "|         Jamaica Bay|\n",
            "|Allerton/Pelham G...|\n",
            "|       Alphabet City|\n",
            "|       Arden Heights|\n",
            "+--------------------+\n",
            "only showing top 5 rows\n",
            "\n"
          ]
        }
      ]
    },
    {
      "cell_type": "code",
      "source": [
        "csv_df"
      ],
      "metadata": {
        "id": "E9DmDuAnvFOj"
      },
      "execution_count": null,
      "outputs": []
    }
  ]
}